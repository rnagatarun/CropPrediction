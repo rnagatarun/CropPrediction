{
 "cells": [
  {
   "cell_type": "code",
   "execution_count": 1,
   "id": "b2b9270b",
   "metadata": {},
   "outputs": [],
   "source": [
    "#importing necessary libraries\n",
    "import numpy as np\n",
    "import pandas as pd\n",
    "import matplotlib.pyplot as plt\n",
    "import seaborn as sns"
   ]
  },
  {
   "cell_type": "code",
   "execution_count": 2,
   "id": "e77b079c",
   "metadata": {},
   "outputs": [],
   "source": [
    "#Loading the dataset\n",
    "data = pd.read_csv('Crop1.csv')"
   ]
  },
  {
   "cell_type": "code",
   "execution_count": 3,
   "id": "cab32b3c",
   "metadata": {},
   "outputs": [
    {
     "data": {
      "text/html": [
       "<div>\n",
       "<style scoped>\n",
       "    .dataframe tbody tr th:only-of-type {\n",
       "        vertical-align: middle;\n",
       "    }\n",
       "\n",
       "    .dataframe tbody tr th {\n",
       "        vertical-align: top;\n",
       "    }\n",
       "\n",
       "    .dataframe thead th {\n",
       "        text-align: right;\n",
       "    }\n",
       "</style>\n",
       "<table border=\"1\" class=\"dataframe\">\n",
       "  <thead>\n",
       "    <tr style=\"text-align: right;\">\n",
       "      <th></th>\n",
       "      <th>State_Name</th>\n",
       "      <th>District_Name</th>\n",
       "      <th>Crop_Year</th>\n",
       "      <th>Season</th>\n",
       "      <th>Crop</th>\n",
       "      <th>Area</th>\n",
       "      <th>Production</th>\n",
       "      <th>Temparetue</th>\n",
       "      <th>Rainfall</th>\n",
       "      <th>Humidity</th>\n",
       "      <th>Sun hours</th>\n",
       "    </tr>\n",
       "  </thead>\n",
       "  <tbody>\n",
       "    <tr>\n",
       "      <th>0</th>\n",
       "      <td>'West Bengal'</td>\n",
       "      <td>BARDHAMAN</td>\n",
       "      <td>2009</td>\n",
       "      <td>'Autumn     '</td>\n",
       "      <td>Rice</td>\n",
       "      <td>17119</td>\n",
       "      <td>52128</td>\n",
       "      <td>22.1</td>\n",
       "      <td>341.0</td>\n",
       "      <td>81.0</td>\n",
       "      <td>8.1</td>\n",
       "    </tr>\n",
       "    <tr>\n",
       "      <th>1</th>\n",
       "      <td>'West Bengal'</td>\n",
       "      <td>BARDHAMAN</td>\n",
       "      <td>2009</td>\n",
       "      <td>'Kharif     '</td>\n",
       "      <td>'Dry ginger'</td>\n",
       "      <td>128</td>\n",
       "      <td>226</td>\n",
       "      <td>26.9</td>\n",
       "      <td>1189.0</td>\n",
       "      <td>80.0</td>\n",
       "      <td>8.2</td>\n",
       "    </tr>\n",
       "    <tr>\n",
       "      <th>2</th>\n",
       "      <td>'West Bengal'</td>\n",
       "      <td>BARDHAMAN</td>\n",
       "      <td>2009</td>\n",
       "      <td>'Kharif     '</td>\n",
       "      <td>Jute</td>\n",
       "      <td>12459</td>\n",
       "      <td>222721</td>\n",
       "      <td>26.9</td>\n",
       "      <td>1189.0</td>\n",
       "      <td>80.0</td>\n",
       "      <td>8.2</td>\n",
       "    </tr>\n",
       "    <tr>\n",
       "      <th>3</th>\n",
       "      <td>'West Bengal'</td>\n",
       "      <td>BARDHAMAN</td>\n",
       "      <td>2009</td>\n",
       "      <td>'Kharif     '</td>\n",
       "      <td>Maize</td>\n",
       "      <td>147</td>\n",
       "      <td>254</td>\n",
       "      <td>26.9</td>\n",
       "      <td>1189.0</td>\n",
       "      <td>80.0</td>\n",
       "      <td>8.2</td>\n",
       "    </tr>\n",
       "    <tr>\n",
       "      <th>4</th>\n",
       "      <td>'West Bengal'</td>\n",
       "      <td>BARDHAMAN</td>\n",
       "      <td>2009</td>\n",
       "      <td>'Kharif     '</td>\n",
       "      <td>Mesta</td>\n",
       "      <td>88</td>\n",
       "      <td>46</td>\n",
       "      <td>26.9</td>\n",
       "      <td>1189.0</td>\n",
       "      <td>80.0</td>\n",
       "      <td>8.2</td>\n",
       "    </tr>\n",
       "    <tr>\n",
       "      <th>...</th>\n",
       "      <td>...</td>\n",
       "      <td>...</td>\n",
       "      <td>...</td>\n",
       "      <td>...</td>\n",
       "      <td>...</td>\n",
       "      <td>...</td>\n",
       "      <td>...</td>\n",
       "      <td>...</td>\n",
       "      <td>...</td>\n",
       "      <td>...</td>\n",
       "      <td>...</td>\n",
       "    </tr>\n",
       "    <tr>\n",
       "      <th>3111</th>\n",
       "      <td>'West Bengal'</td>\n",
       "      <td>BARDHAMAN</td>\n",
       "      <td>2017</td>\n",
       "      <td>'Rabi       '</td>\n",
       "      <td>Barley</td>\n",
       "      <td>6</td>\n",
       "      <td>6</td>\n",
       "      <td>21.4</td>\n",
       "      <td>188.0</td>\n",
       "      <td>64.0</td>\n",
       "      <td>8.9</td>\n",
       "    </tr>\n",
       "    <tr>\n",
       "      <th>3112</th>\n",
       "      <td>'West Bengal'</td>\n",
       "      <td>BARDHAMAN</td>\n",
       "      <td>2017</td>\n",
       "      <td>'Rabi       '</td>\n",
       "      <td>Barley</td>\n",
       "      <td>6</td>\n",
       "      <td>6</td>\n",
       "      <td>21.4</td>\n",
       "      <td>188.0</td>\n",
       "      <td>64.0</td>\n",
       "      <td>8.9</td>\n",
       "    </tr>\n",
       "    <tr>\n",
       "      <th>3113</th>\n",
       "      <td>'West Bengal'</td>\n",
       "      <td>BARDHAMAN</td>\n",
       "      <td>2017</td>\n",
       "      <td>'Rabi       '</td>\n",
       "      <td>Barley</td>\n",
       "      <td>6</td>\n",
       "      <td>6</td>\n",
       "      <td>21.4</td>\n",
       "      <td>188.0</td>\n",
       "      <td>64.0</td>\n",
       "      <td>8.9</td>\n",
       "    </tr>\n",
       "    <tr>\n",
       "      <th>3114</th>\n",
       "      <td>'West Bengal'</td>\n",
       "      <td>BARDHAMAN</td>\n",
       "      <td>2017</td>\n",
       "      <td>'Rabi       '</td>\n",
       "      <td>Barley</td>\n",
       "      <td>6</td>\n",
       "      <td>6</td>\n",
       "      <td>21.4</td>\n",
       "      <td>188.0</td>\n",
       "      <td>64.0</td>\n",
       "      <td>8.9</td>\n",
       "    </tr>\n",
       "    <tr>\n",
       "      <th>3115</th>\n",
       "      <td>'West Bengal'</td>\n",
       "      <td>BARDHAMAN</td>\n",
       "      <td>2017</td>\n",
       "      <td>'Rabi       '</td>\n",
       "      <td>Barley</td>\n",
       "      <td>6</td>\n",
       "      <td>6</td>\n",
       "      <td>21.4</td>\n",
       "      <td>188.0</td>\n",
       "      <td>64.0</td>\n",
       "      <td>8.9</td>\n",
       "    </tr>\n",
       "  </tbody>\n",
       "</table>\n",
       "<p>3116 rows × 11 columns</p>\n",
       "</div>"
      ],
      "text/plain": [
       "         State_Name District_Name  Crop_Year         Season          Crop  \\\n",
       "0     'West Bengal'     BARDHAMAN       2009  'Autumn     '          Rice   \n",
       "1     'West Bengal'     BARDHAMAN       2009  'Kharif     '  'Dry ginger'   \n",
       "2     'West Bengal'     BARDHAMAN       2009  'Kharif     '          Jute   \n",
       "3     'West Bengal'     BARDHAMAN       2009  'Kharif     '         Maize   \n",
       "4     'West Bengal'     BARDHAMAN       2009  'Kharif     '         Mesta   \n",
       "...             ...           ...        ...            ...           ...   \n",
       "3111  'West Bengal'     BARDHAMAN       2017  'Rabi       '        Barley   \n",
       "3112  'West Bengal'     BARDHAMAN       2017  'Rabi       '        Barley   \n",
       "3113  'West Bengal'     BARDHAMAN       2017  'Rabi       '        Barley   \n",
       "3114  'West Bengal'     BARDHAMAN       2017  'Rabi       '        Barley   \n",
       "3115  'West Bengal'     BARDHAMAN       2017  'Rabi       '        Barley   \n",
       "\n",
       "       Area Production  Temparetue  Rainfall  Humidity  Sun hours  \n",
       "0     17119      52128        22.1     341.0      81.0        8.1  \n",
       "1       128        226        26.9    1189.0      80.0        8.2  \n",
       "2     12459     222721        26.9    1189.0      80.0        8.2  \n",
       "3       147        254        26.9    1189.0      80.0        8.2  \n",
       "4        88         46        26.9    1189.0      80.0        8.2  \n",
       "...     ...        ...         ...       ...       ...        ...  \n",
       "3111      6          6        21.4     188.0      64.0        8.9  \n",
       "3112      6          6        21.4     188.0      64.0        8.9  \n",
       "3113      6          6        21.4     188.0      64.0        8.9  \n",
       "3114      6          6        21.4     188.0      64.0        8.9  \n",
       "3115      6          6        21.4     188.0      64.0        8.9  \n",
       "\n",
       "[3116 rows x 11 columns]"
      ]
     },
     "execution_count": 3,
     "metadata": {},
     "output_type": "execute_result"
    }
   ],
   "source": [
    "data"
   ]
  },
  {
   "cell_type": "code",
   "execution_count": 4,
   "id": "11d20e52",
   "metadata": {},
   "outputs": [
    {
     "data": {
      "text/plain": [
       "Crop\n",
       "Rice                       98\n",
       "Linseed                    98\n",
       "'Other Kharif pulses'      98\n",
       "Sesamum                    98\n",
       "'Moong(Green Gram)'        98\n",
       "'Dry ginger'               98\n",
       "Safflower                  98\n",
       "Wheat                      98\n",
       "Barley                     98\n",
       "Jute                       98\n",
       "Mesta                      98\n",
       "Maize                      98\n",
       "Potato                     97\n",
       "Garlic                     97\n",
       "Arecanut                   97\n",
       "Arhar/Tur                  97\n",
       "Cotton(lint)               97\n",
       "Turmeric                   97\n",
       "Sugarcane                  97\n",
       "Sannhamp                   97\n",
       "Gram                       97\n",
       "Horse-gram                 97\n",
       "'Dry chillies'             97\n",
       "'Coconut '                 97\n",
       "Soyabean                   97\n",
       "Sunflower                  97\n",
       "'Rapeseed &Mustard'        97\n",
       "'Peas & beans (Pulses)'    97\n",
       "Masoor                     97\n",
       "Urad                       97\n",
       "Khesari                    97\n",
       "Groundnut                  97\n",
       "Name: count, dtype: int64"
      ]
     },
     "execution_count": 4,
     "metadata": {},
     "output_type": "execute_result"
    }
   ],
   "source": [
    "data['Crop'].value_counts()"
   ]
  },
  {
   "cell_type": "code",
   "execution_count": 5,
   "id": "4ed37054",
   "metadata": {},
   "outputs": [
    {
     "data": {
      "image/png": "[encoded data removed]",
      "text/plain": [
       "<Figure size 1000x600 with 1 Axes>"
      ]
     },
     "metadata": {},
     "output_type": "display_data"
    }
   ],
   "source": [
    "import pandas as pd\n",
    "import matplotlib.pyplot as plt\n",
    "\n",
    "crop_counts = data['Crop'].value_counts()\n",
    "\n",
    "# Create a bar graph\n",
    "plt.figure(figsize=(10, 6))\n",
    "crop_counts.plot(kind='bar')\n",
    "plt.title('Crop Counts')\n",
    "plt.xlabel('Crop')\n",
    "plt.ylabel('Count')\n",
    "plt.xticks(rotation=90)  # Rotate x-axis labels for better readability\n",
    "\n",
    "plt.show()"
   ]
  },
  {
   "cell_type": "code",
   "execution_count": 6,
   "id": "c02d73f0",
   "metadata": {},
   "outputs": [
    {
     "data": {
      "text/html": [
       "<div>\n",
       "<style scoped>\n",
       "    .dataframe tbody tr th:only-of-type {\n",
       "        vertical-align: middle;\n",
       "    }\n",
       "\n",
       "    .dataframe tbody tr th {\n",
       "        vertical-align: top;\n",
       "    }\n",
       "\n",
       "    .dataframe thead th {\n",
       "        text-align: right;\n",
       "    }\n",
       "</style>\n",
       "<table border=\"1\" class=\"dataframe\">\n",
       "  <thead>\n",
       "    <tr style=\"text-align: right;\">\n",
       "      <th></th>\n",
       "      <th>State_Name</th>\n",
       "      <th>District_Name</th>\n",
       "      <th>Crop_Year</th>\n",
       "      <th>Season</th>\n",
       "      <th>Crop</th>\n",
       "      <th>Area</th>\n",
       "      <th>Production</th>\n",
       "      <th>Temparetue</th>\n",
       "      <th>Rainfall</th>\n",
       "      <th>Humidity</th>\n",
       "      <th>Sun hours</th>\n",
       "    </tr>\n",
       "  </thead>\n",
       "  <tbody>\n",
       "    <tr>\n",
       "      <th>0</th>\n",
       "      <td>'West Bengal'</td>\n",
       "      <td>BARDHAMAN</td>\n",
       "      <td>2009</td>\n",
       "      <td>'Autumn     '</td>\n",
       "      <td>Rice</td>\n",
       "      <td>17119</td>\n",
       "      <td>52128</td>\n",
       "      <td>22.1</td>\n",
       "      <td>341.0</td>\n",
       "      <td>81.0</td>\n",
       "      <td>8.1</td>\n",
       "    </tr>\n",
       "    <tr>\n",
       "      <th>1</th>\n",
       "      <td>'West Bengal'</td>\n",
       "      <td>BARDHAMAN</td>\n",
       "      <td>2009</td>\n",
       "      <td>'Kharif     '</td>\n",
       "      <td>'Dry ginger'</td>\n",
       "      <td>128</td>\n",
       "      <td>226</td>\n",
       "      <td>26.9</td>\n",
       "      <td>1189.0</td>\n",
       "      <td>80.0</td>\n",
       "      <td>8.2</td>\n",
       "    </tr>\n",
       "    <tr>\n",
       "      <th>2</th>\n",
       "      <td>'West Bengal'</td>\n",
       "      <td>BARDHAMAN</td>\n",
       "      <td>2009</td>\n",
       "      <td>'Kharif     '</td>\n",
       "      <td>Jute</td>\n",
       "      <td>12459</td>\n",
       "      <td>222721</td>\n",
       "      <td>26.9</td>\n",
       "      <td>1189.0</td>\n",
       "      <td>80.0</td>\n",
       "      <td>8.2</td>\n",
       "    </tr>\n",
       "    <tr>\n",
       "      <th>3</th>\n",
       "      <td>'West Bengal'</td>\n",
       "      <td>BARDHAMAN</td>\n",
       "      <td>2009</td>\n",
       "      <td>'Kharif     '</td>\n",
       "      <td>Maize</td>\n",
       "      <td>147</td>\n",
       "      <td>254</td>\n",
       "      <td>26.9</td>\n",
       "      <td>1189.0</td>\n",
       "      <td>80.0</td>\n",
       "      <td>8.2</td>\n",
       "    </tr>\n",
       "    <tr>\n",
       "      <th>4</th>\n",
       "      <td>'West Bengal'</td>\n",
       "      <td>BARDHAMAN</td>\n",
       "      <td>2009</td>\n",
       "      <td>'Kharif     '</td>\n",
       "      <td>Mesta</td>\n",
       "      <td>88</td>\n",
       "      <td>46</td>\n",
       "      <td>26.9</td>\n",
       "      <td>1189.0</td>\n",
       "      <td>80.0</td>\n",
       "      <td>8.2</td>\n",
       "    </tr>\n",
       "  </tbody>\n",
       "</table>\n",
       "</div>"
      ],
      "text/plain": [
       "      State_Name District_Name  Crop_Year         Season          Crop   Area  \\\n",
       "0  'West Bengal'     BARDHAMAN       2009  'Autumn     '          Rice  17119   \n",
       "1  'West Bengal'     BARDHAMAN       2009  'Kharif     '  'Dry ginger'    128   \n",
       "2  'West Bengal'     BARDHAMAN       2009  'Kharif     '          Jute  12459   \n",
       "3  'West Bengal'     BARDHAMAN       2009  'Kharif     '         Maize    147   \n",
       "4  'West Bengal'     BARDHAMAN       2009  'Kharif     '         Mesta     88   \n",
       "\n",
       "  Production  Temparetue  Rainfall  Humidity  Sun hours  \n",
       "0      52128        22.1     341.0      81.0        8.1  \n",
       "1        226        26.9    1189.0      80.0        8.2  \n",
       "2     222721        26.9    1189.0      80.0        8.2  \n",
       "3        254        26.9    1189.0      80.0        8.2  \n",
       "4         46        26.9    1189.0      80.0        8.2  "
      ]
     },
     "execution_count": 6,
     "metadata": {},
     "output_type": "execute_result"
    }
   ],
   "source": [
    "#Checking the first five attributes of dataset\n",
    "data.head()"
   ]
  },
  {
   "cell_type": "code",
   "execution_count": 7,
   "id": "12468376",
   "metadata": {},
   "outputs": [
    {
     "name": "stdout",
     "output_type": "stream",
     "text": [
      "<class 'pandas.core.frame.DataFrame'>\n",
      "RangeIndex: 3116 entries, 0 to 3115\n",
      "Data columns (total 11 columns):\n",
      " #   Column         Non-Null Count  Dtype  \n",
      "---  ------         --------------  -----  \n",
      " 0   State_Name     3116 non-null   object \n",
      " 1   District_Name  3116 non-null   object \n",
      " 2   Crop_Year      3116 non-null   int64  \n",
      " 3   Season         3116 non-null   object \n",
      " 4   Crop           3116 non-null   object \n",
      " 5   Area           3116 non-null   int64  \n",
      " 6   Production     3116 non-null   object \n",
      " 7   Temparetue     3116 non-null   float64\n",
      " 8   Rainfall       3116 non-null   float64\n",
      " 9   Humidity       3116 non-null   float64\n",
      " 10  Sun hours      3116 non-null   float64\n",
      "dtypes: float64(4), int64(2), object(5)\n",
      "memory usage: 267.9+ KB\n"
     ]
    }
   ],
   "source": [
    "# checking the dataype of the parameters(Columns)\n",
    "data.info()"
   ]
  },
  {
   "cell_type": "code",
   "execution_count": null,
   "id": "38a50eb6",
   "metadata": {},
   "outputs": [],
   "source": []
  },
  {
   "cell_type": "code",
   "execution_count": 8,
   "id": "3c10ceec",
   "metadata": {},
   "outputs": [],
   "source": [
    "data['Area'] = pd.to_numeric(data['Area'],errors='coerce')"
   ]
  },
  {
   "cell_type": "code",
   "execution_count": 9,
   "id": "806d38ff",
   "metadata": {},
   "outputs": [],
   "source": [
    "data['Production'] = pd.to_numeric(data['Production'],errors='coerce')"
   ]
  },
  {
   "cell_type": "code",
   "execution_count": 10,
   "id": "3a31e811",
   "metadata": {},
   "outputs": [],
   "source": [
    "data['Temparetue'] = pd.to_numeric(data['Temparetue'],errors='coerce')"
   ]
  },
  {
   "cell_type": "code",
   "execution_count": 11,
   "id": "d8a24935",
   "metadata": {},
   "outputs": [],
   "source": [
    "data['Rainfall'] = pd.to_numeric(data['Rainfall'],errors='coerce')"
   ]
  },
  {
   "cell_type": "code",
   "execution_count": 12,
   "id": "e9e46b39",
   "metadata": {},
   "outputs": [],
   "source": [
    "data['Humidity'] = pd.to_numeric(data['Humidity'],errors='coerce')"
   ]
  },
  {
   "cell_type": "code",
   "execution_count": 13,
   "id": "915a9511",
   "metadata": {},
   "outputs": [],
   "source": [
    "data['Sun hours'] = pd.to_numeric(data['Sun hours'],errors='coerce')"
   ]
  },
  {
   "cell_type": "code",
   "execution_count": 14,
   "id": "6dee16dd",
   "metadata": {},
   "outputs": [
    {
     "name": "stdout",
     "output_type": "stream",
     "text": [
      "<class 'pandas.core.frame.DataFrame'>\n",
      "RangeIndex: 3116 entries, 0 to 3115\n",
      "Data columns (total 11 columns):\n",
      " #   Column         Non-Null Count  Dtype  \n",
      "---  ------         --------------  -----  \n",
      " 0   State_Name     3116 non-null   object \n",
      " 1   District_Name  3116 non-null   object \n",
      " 2   Crop_Year      3116 non-null   int64  \n",
      " 3   Season         3116 non-null   object \n",
      " 4   Crop           3116 non-null   object \n",
      " 5   Area           3116 non-null   int64  \n",
      " 6   Production     3113 non-null   float64\n",
      " 7   Temparetue     3116 non-null   float64\n",
      " 8   Rainfall       3116 non-null   float64\n",
      " 9   Humidity       3116 non-null   float64\n",
      " 10  Sun hours      3116 non-null   float64\n",
      "dtypes: float64(5), int64(2), object(4)\n",
      "memory usage: 267.9+ KB\n"
     ]
    }
   ],
   "source": [
    "data.info()"
   ]
  },
  {
   "cell_type": "code",
   "execution_count": 15,
   "id": "fd665d2a",
   "metadata": {},
   "outputs": [
    {
     "data": {
      "text/plain": [
       "State_Name       0\n",
       "District_Name    0\n",
       "Crop_Year        0\n",
       "Season           0\n",
       "Crop             0\n",
       "Area             0\n",
       "Production       3\n",
       "Temparetue       0\n",
       "Rainfall         0\n",
       "Humidity         0\n",
       "Sun hours        0\n",
       "dtype: int64"
      ]
     },
     "execution_count": 15,
     "metadata": {},
     "output_type": "execute_result"
    }
   ],
   "source": [
    "#checking for null values\n",
    "data.isnull().sum()"
   ]
  },
  {
   "cell_type": "code",
   "execution_count": 16,
   "id": "3fdc888f",
   "metadata": {},
   "outputs": [
    {
     "data": {
      "text/plain": [
       "32"
      ]
     },
     "execution_count": 16,
     "metadata": {},
     "output_type": "execute_result"
    }
   ],
   "source": [
    "#Number of unique crop names\n",
    "data['Crop'].nunique()"
   ]
  },
  {
   "cell_type": "code",
   "execution_count": 17,
   "id": "edc4e841",
   "metadata": {},
   "outputs": [],
   "source": [
    "#Filling null values\n",
    "data['Area'].fillna(data['Area'].mean(),inplace=True)\n",
    "data['Temparetue'].fillna(data['Temparetue'].mean(),inplace=True)\n",
    "data['Rainfall'].fillna(data['Rainfall'].mean(),inplace=True)\n",
    "data['Production'].fillna(data['Production'].mean(),inplace=True)\n",
    "data['Humidity'].fillna(data['Humidity'].mean(),inplace=True)\n",
    "data['Sun hours'].fillna(data['Sun hours'].mean(),inplace=True)\n"
   ]
  },
  {
   "cell_type": "code",
   "execution_count": 18,
   "id": "6a39a9ee",
   "metadata": {},
   "outputs": [
    {
     "data": {
      "text/plain": [
       "0"
      ]
     },
     "execution_count": 18,
     "metadata": {},
     "output_type": "execute_result"
    }
   ],
   "source": [
    "#Re-checking for null values\n",
    "data.isnull().any().sum()"
   ]
  },
  {
   "cell_type": "code",
   "execution_count": 19,
   "id": "8715e810",
   "metadata": {},
   "outputs": [],
   "source": [
    "#Removing unnecessary columns"
   ]
  },
  {
   "cell_type": "code",
   "execution_count": 20,
   "id": "28e7d591",
   "metadata": {},
   "outputs": [
    {
     "data": {
      "text/html": [
       "<div>\n",
       "<style scoped>\n",
       "    .dataframe tbody tr th:only-of-type {\n",
       "        vertical-align: middle;\n",
       "    }\n",
       "\n",
       "    .dataframe tbody tr th {\n",
       "        vertical-align: top;\n",
       "    }\n",
       "\n",
       "    .dataframe thead th {\n",
       "        text-align: right;\n",
       "    }\n",
       "</style>\n",
       "<table border=\"1\" class=\"dataframe\">\n",
       "  <thead>\n",
       "    <tr style=\"text-align: right;\">\n",
       "      <th></th>\n",
       "      <th>Season</th>\n",
       "      <th>Area</th>\n",
       "      <th>Production</th>\n",
       "      <th>Temparetue</th>\n",
       "      <th>Rainfall</th>\n",
       "      <th>Humidity</th>\n",
       "      <th>Sun hours</th>\n",
       "    </tr>\n",
       "  </thead>\n",
       "  <tbody>\n",
       "    <tr>\n",
       "      <th>0</th>\n",
       "      <td>'Autumn     '</td>\n",
       "      <td>17119</td>\n",
       "      <td>52128.0</td>\n",
       "      <td>22.1</td>\n",
       "      <td>341.0</td>\n",
       "      <td>81.0</td>\n",
       "      <td>8.1</td>\n",
       "    </tr>\n",
       "    <tr>\n",
       "      <th>1</th>\n",
       "      <td>'Kharif     '</td>\n",
       "      <td>128</td>\n",
       "      <td>226.0</td>\n",
       "      <td>26.9</td>\n",
       "      <td>1189.0</td>\n",
       "      <td>80.0</td>\n",
       "      <td>8.2</td>\n",
       "    </tr>\n",
       "    <tr>\n",
       "      <th>2</th>\n",
       "      <td>'Kharif     '</td>\n",
       "      <td>12459</td>\n",
       "      <td>222721.0</td>\n",
       "      <td>26.9</td>\n",
       "      <td>1189.0</td>\n",
       "      <td>80.0</td>\n",
       "      <td>8.2</td>\n",
       "    </tr>\n",
       "    <tr>\n",
       "      <th>3</th>\n",
       "      <td>'Kharif     '</td>\n",
       "      <td>147</td>\n",
       "      <td>254.0</td>\n",
       "      <td>26.9</td>\n",
       "      <td>1189.0</td>\n",
       "      <td>80.0</td>\n",
       "      <td>8.2</td>\n",
       "    </tr>\n",
       "    <tr>\n",
       "      <th>4</th>\n",
       "      <td>'Kharif     '</td>\n",
       "      <td>88</td>\n",
       "      <td>46.0</td>\n",
       "      <td>26.9</td>\n",
       "      <td>1189.0</td>\n",
       "      <td>80.0</td>\n",
       "      <td>8.2</td>\n",
       "    </tr>\n",
       "    <tr>\n",
       "      <th>...</th>\n",
       "      <td>...</td>\n",
       "      <td>...</td>\n",
       "      <td>...</td>\n",
       "      <td>...</td>\n",
       "      <td>...</td>\n",
       "      <td>...</td>\n",
       "      <td>...</td>\n",
       "    </tr>\n",
       "    <tr>\n",
       "      <th>3111</th>\n",
       "      <td>'Rabi       '</td>\n",
       "      <td>6</td>\n",
       "      <td>6.0</td>\n",
       "      <td>21.4</td>\n",
       "      <td>188.0</td>\n",
       "      <td>64.0</td>\n",
       "      <td>8.9</td>\n",
       "    </tr>\n",
       "    <tr>\n",
       "      <th>3112</th>\n",
       "      <td>'Rabi       '</td>\n",
       "      <td>6</td>\n",
       "      <td>6.0</td>\n",
       "      <td>21.4</td>\n",
       "      <td>188.0</td>\n",
       "      <td>64.0</td>\n",
       "      <td>8.9</td>\n",
       "    </tr>\n",
       "    <tr>\n",
       "      <th>3113</th>\n",
       "      <td>'Rabi       '</td>\n",
       "      <td>6</td>\n",
       "      <td>6.0</td>\n",
       "      <td>21.4</td>\n",
       "      <td>188.0</td>\n",
       "      <td>64.0</td>\n",
       "      <td>8.9</td>\n",
       "    </tr>\n",
       "    <tr>\n",
       "      <th>3114</th>\n",
       "      <td>'Rabi       '</td>\n",
       "      <td>6</td>\n",
       "      <td>6.0</td>\n",
       "      <td>21.4</td>\n",
       "      <td>188.0</td>\n",
       "      <td>64.0</td>\n",
       "      <td>8.9</td>\n",
       "    </tr>\n",
       "    <tr>\n",
       "      <th>3115</th>\n",
       "      <td>'Rabi       '</td>\n",
       "      <td>6</td>\n",
       "      <td>6.0</td>\n",
       "      <td>21.4</td>\n",
       "      <td>188.0</td>\n",
       "      <td>64.0</td>\n",
       "      <td>8.9</td>\n",
       "    </tr>\n",
       "  </tbody>\n",
       "</table>\n",
       "<p>3116 rows × 7 columns</p>\n",
       "</div>"
      ],
      "text/plain": [
       "             Season   Area  Production  Temparetue  Rainfall  Humidity  \\\n",
       "0     'Autumn     '  17119     52128.0        22.1     341.0      81.0   \n",
       "1     'Kharif     '    128       226.0        26.9    1189.0      80.0   \n",
       "2     'Kharif     '  12459    222721.0        26.9    1189.0      80.0   \n",
       "3     'Kharif     '    147       254.0        26.9    1189.0      80.0   \n",
       "4     'Kharif     '     88        46.0        26.9    1189.0      80.0   \n",
       "...             ...    ...         ...         ...       ...       ...   \n",
       "3111  'Rabi       '      6         6.0        21.4     188.0      64.0   \n",
       "3112  'Rabi       '      6         6.0        21.4     188.0      64.0   \n",
       "3113  'Rabi       '      6         6.0        21.4     188.0      64.0   \n",
       "3114  'Rabi       '      6         6.0        21.4     188.0      64.0   \n",
       "3115  'Rabi       '      6         6.0        21.4     188.0      64.0   \n",
       "\n",
       "      Sun hours  \n",
       "0           8.1  \n",
       "1           8.2  \n",
       "2           8.2  \n",
       "3           8.2  \n",
       "4           8.2  \n",
       "...         ...  \n",
       "3111        8.9  \n",
       "3112        8.9  \n",
       "3113        8.9  \n",
       "3114        8.9  \n",
       "3115        8.9  \n",
       "\n",
       "[3116 rows x 7 columns]"
      ]
     },
     "execution_count": 20,
     "metadata": {},
     "output_type": "execute_result"
    }
   ],
   "source": [
    "X = data.drop(columns=['State_Name','District_Name','Crop_Year','Crop'])\n",
    "X"
   ]
  },
  {
   "cell_type": "code",
   "execution_count": 21,
   "id": "0e3fe7da",
   "metadata": {},
   "outputs": [
    {
     "data": {
      "text/plain": [
       "0               Rice\n",
       "1       'Dry ginger'\n",
       "2               Jute\n",
       "3              Maize\n",
       "4              Mesta\n",
       "            ...     \n",
       "3111          Barley\n",
       "3112          Barley\n",
       "3113          Barley\n",
       "3114          Barley\n",
       "3115          Barley\n",
       "Name: Crop, Length: 3116, dtype: object"
      ]
     },
     "execution_count": 21,
     "metadata": {},
     "output_type": "execute_result"
    }
   ],
   "source": [
    "Y=data['Crop']\n",
    "Y"
   ]
  },
  {
   "cell_type": "code",
   "execution_count": null,
   "id": "66450b9a",
   "metadata": {},
   "outputs": [],
   "source": []
  },
  {
   "cell_type": "code",
   "execution_count": 22,
   "id": "7e2279fb",
   "metadata": {},
   "outputs": [],
   "source": [
    "#Imbalance Handling"
   ]
  },
  {
   "cell_type": "code",
   "execution_count": 23,
   "id": "87b33a14",
   "metadata": {},
   "outputs": [],
   "source": [
    "#from imblearn.over_sampling import SMOTE"
   ]
  },
  {
   "cell_type": "code",
   "execution_count": 24,
   "id": "4d9c0355",
   "metadata": {},
   "outputs": [],
   "source": [
    "#smote = SMOTE(sampling_strategy='auto', random_state=42)"
   ]
  },
  {
   "cell_type": "code",
   "execution_count": 25,
   "id": "5302d439",
   "metadata": {},
   "outputs": [],
   "source": [
    "#x_res2, y_res2 = smote.fit_resample(X, Y)"
   ]
  },
  {
   "cell_type": "code",
   "execution_count": null,
   "id": "8099559d",
   "metadata": {
    "scrolled": true
   },
   "outputs": [],
   "source": []
  },
  {
   "cell_type": "code",
   "execution_count": null,
   "id": "b30c9a32",
   "metadata": {},
   "outputs": [],
   "source": []
  },
  {
   "cell_type": "code",
   "execution_count": null,
   "id": "92be81a9",
   "metadata": {},
   "outputs": [],
   "source": []
  },
  {
   "cell_type": "code",
   "execution_count": null,
   "id": "2d2c98cd",
   "metadata": {},
   "outputs": [],
   "source": []
  },
  {
   "cell_type": "code",
   "execution_count": null,
   "id": "1b5fd702",
   "metadata": {},
   "outputs": [],
   "source": []
  },
  {
   "cell_type": "code",
   "execution_count": null,
   "id": "dfe5e2c1",
   "metadata": {},
   "outputs": [],
   "source": []
  },
  {
   "cell_type": "code",
   "execution_count": null,
   "id": "b5e88b08",
   "metadata": {},
   "outputs": [],
   "source": []
  },
  {
   "cell_type": "code",
   "execution_count": 26,
   "id": "23c8d350",
   "metadata": {},
   "outputs": [],
   "source": [
    "from sklearn.preprocessing import LabelEncoder\n",
    "le=LabelEncoder()"
   ]
  },
  {
   "cell_type": "code",
   "execution_count": 27,
   "id": "9800b1df",
   "metadata": {},
   "outputs": [],
   "source": [
    "Y=le.fit_transform(Y)\n"
   ]
  },
  {
   "cell_type": "code",
   "execution_count": 28,
   "id": "e344505a",
   "metadata": {},
   "outputs": [],
   "source": [
    "X.Season=le.fit_transform(data.Season)"
   ]
  },
  {
   "cell_type": "code",
   "execution_count": null,
   "id": "01e381a7",
   "metadata": {},
   "outputs": [],
   "source": []
  },
  {
   "cell_type": "code",
   "execution_count": 42,
   "id": "cc1624c7",
   "metadata": {},
   "outputs": [],
   "source": [
    "Y = pd.DataFrame(Y, columns=['1'])\n",
    "Y.rename(columns={'1': 'Crop'}, inplace=True)\n"
   ]
  },
  {
   "cell_type": "code",
   "execution_count": 43,
   "id": "0f77db20",
   "metadata": {},
   "outputs": [],
   "source": [
    " df = pd.concat([X, Y], axis=1)\n"
   ]
  },
  {
   "cell_type": "code",
   "execution_count": null,
   "id": "3a5cd61b",
   "metadata": {},
   "outputs": [],
   "source": [
    "                "
   ]
  },
  {
   "cell_type": "code",
   "execution_count": null,
   "id": "2e13fda2",
   "metadata": {},
   "outputs": [],
   "source": []
  },
  {
   "cell_type": "code",
   "execution_count": null,
   "id": "c5e2d3a2",
   "metadata": {},
   "outputs": [],
   "source": []
  },
  {
   "cell_type": "code",
   "execution_count": null,
   "id": "9f073d1d",
   "metadata": {},
   "outputs": [],
   "source": []
  },
  {
   "cell_type": "code",
   "execution_count": null,
   "id": "2a33d52d",
   "metadata": {},
   "outputs": [],
   "source": []
  },
  {
   "cell_type": "code",
   "execution_count": 32,
   "id": "8e63d3a9",
   "metadata": {
    "scrolled": false
   },
   "outputs": [
    {
     "data": {
      "text/plain": [
       "pandas.core.frame.DataFrame"
      ]
     },
     "execution_count": 32,
     "metadata": {},
     "output_type": "execute_result"
    }
   ],
   "source": []
  },
  {
   "cell_type": "code",
   "execution_count": null,
   "id": "854e9585",
   "metadata": {},
   "outputs": [],
   "source": [
    "#Check outliers of all the independent variables\n",
    "plt.boxplot(X)"
   ]
  },
  {
   "cell_type": "code",
   "execution_count": 44,
   "id": "2bbdf1c5",
   "metadata": {},
   "outputs": [
    {
     "data": {
      "text/plain": [
       "<Axes: >"
      ]
     },
     "execution_count": 44,
     "metadata": {},
     "output_type": "execute_result"
    },
    {
     "data": {
      "image/png": "[encoded data removed]",
      "text/plain": [
       "<Figure size 640x480 with 2 Axes>"
      ]
     },
     "metadata": {},
     "output_type": "display_data"
    }
   ],
   "source": [
    "#Heat map\n",
    "sns.heatmap(df.corr(),vmin=-1, vmax=1, annot=True)"
   ]
  },
  {
   "cell_type": "code",
   "execution_count": null,
   "id": "43989fa9",
   "metadata": {},
   "outputs": [],
   "source": [
    "#Normalisation 1\n",
    "from sklearn.preprocessing import MinMaxScaler\n",
    "name=X.columns\n",
    "scale = MinMaxScaler()"
   ]
  },
  {
   "cell_type": "code",
   "execution_count": null,
   "id": "900b1443",
   "metadata": {},
   "outputs": [],
   "source": []
  },
  {
   "cell_type": "code",
   "execution_count": null,
   "id": "35f00cca",
   "metadata": {},
   "outputs": [],
   "source": []
  },
  {
   "cell_type": "code",
   "execution_count": null,
   "id": "796c2f26",
   "metadata": {},
   "outputs": [],
   "source": [
    "# #Normalisation 2\n",
    "# from sklearn.preprocessing import StandardScaler\n",
    "# name=X.columns\n",
    "# scale = StandardScaler()"
   ]
  },
  {
   "cell_type": "code",
   "execution_count": null,
   "id": "a6309b56",
   "metadata": {},
   "outputs": [],
   "source": []
  },
  {
   "cell_type": "code",
   "execution_count": null,
   "id": "6fc3f5e4",
   "metadata": {},
   "outputs": [],
   "source": [
    "x = scale.fit_transform(X)"
   ]
  },
  {
   "cell_type": "code",
   "execution_count": null,
   "id": "afba138f",
   "metadata": {},
   "outputs": [],
   "source": [
    "X=pd.DataFrame(x,columns=name)"
   ]
  },
  {
   "cell_type": "code",
   "execution_count": null,
   "id": "4164fbba",
   "metadata": {},
   "outputs": [],
   "source": [
    "X"
   ]
  },
  {
   "cell_type": "code",
   "execution_count": null,
   "id": "300fe2f1",
   "metadata": {},
   "outputs": [],
   "source": [
    "#Splitting data into training and testing data\n",
    "from sklearn.model_selection import train_test_split"
   ]
  },
  {
   "cell_type": "code",
   "execution_count": null,
   "id": "1a8f8215",
   "metadata": {},
   "outputs": [],
   "source": [
    "X_train,X_test,Y_train,Y_test = train_test_split(X,Y,test_size=0.2,random_state=0)"
   ]
  },
  {
   "cell_type": "code",
   "execution_count": null,
   "id": "48305921",
   "metadata": {},
   "outputs": [],
   "source": []
  },
  {
   "cell_type": "code",
   "execution_count": null,
   "id": "d95b9366",
   "metadata": {
    "scrolled": true
   },
   "outputs": [],
   "source": [
    "#X_train_resampled, Y_train_resampled = smote.fit_resample(X_train, Y_train)"
   ]
  },
  {
   "cell_type": "code",
   "execution_count": null,
   "id": "084f583d",
   "metadata": {},
   "outputs": [],
   "source": []
  },
  {
   "cell_type": "code",
   "execution_count": null,
   "id": "236c543a",
   "metadata": {},
   "outputs": [],
   "source": [
    "#Model Building\n",
    "#Model1\n",
    "from sklearn.svm import SVC\n",
    "svc = SVC(kernel='linear')"
   ]
  },
  {
   "cell_type": "code",
   "execution_count": null,
   "id": "6a1c1ef4",
   "metadata": {},
   "outputs": [],
   "source": [
    "model_svc = svc.fit(X_train,Y_train)"
   ]
  },
  {
   "cell_type": "code",
   "execution_count": null,
   "id": "5e59e64a",
   "metadata": {},
   "outputs": [],
   "source": [
    "pred_svc=model_svc.predict(X_test)"
   ]
  },
  {
   "cell_type": "code",
   "execution_count": null,
   "id": "a4e9351f",
   "metadata": {},
   "outputs": [],
   "source": [
    "#import metrics\n",
    "from sklearn.metrics import accuracy_score\n",
    "accuracy_score(pred_svc,Y_test)"
   ]
  },
  {
   "cell_type": "code",
   "execution_count": null,
   "id": "737a86b9",
   "metadata": {},
   "outputs": [],
   "source": []
  },
  {
   "cell_type": "code",
   "execution_count": null,
   "id": "d8881475",
   "metadata": {},
   "outputs": [],
   "source": []
  },
  {
   "cell_type": "code",
   "execution_count": null,
   "id": "45196c7d",
   "metadata": {},
   "outputs": [],
   "source": [
    "from sklearn.naive_bayes import GaussianNB"
   ]
  },
  {
   "cell_type": "code",
   "execution_count": null,
   "id": "53ba06cb",
   "metadata": {},
   "outputs": [],
   "source": [
    "model_nb=GaussianNB()"
   ]
  },
  {
   "cell_type": "code",
   "execution_count": null,
   "id": "573b21f0",
   "metadata": {},
   "outputs": [],
   "source": [
    "#Model Building\n",
    "model_nb.fit(X_train,Y_train)"
   ]
  },
  {
   "cell_type": "code",
   "execution_count": null,
   "id": "5db66812",
   "metadata": {},
   "outputs": [],
   "source": [
    "#Testing\n",
    "pred_nb=model_nb.predict(X_test)"
   ]
  },
  {
   "cell_type": "code",
   "execution_count": null,
   "id": "5932196c",
   "metadata": {},
   "outputs": [],
   "source": [
    "#Metrics\n",
    "accuracy_score(pred_nb,Y_test)"
   ]
  },
  {
   "cell_type": "code",
   "execution_count": null,
   "id": "56ca126b",
   "metadata": {},
   "outputs": [],
   "source": []
  },
  {
   "cell_type": "code",
   "execution_count": null,
   "id": "67307b11",
   "metadata": {},
   "outputs": [],
   "source": [
    "#Model 6 Random Forest"
   ]
  },
  {
   "cell_type": "code",
   "execution_count": null,
   "id": "b78287d3",
   "metadata": {},
   "outputs": [],
   "source": [
    "from sklearn.ensemble import RandomForestClassifier"
   ]
  },
  {
   "cell_type": "code",
   "execution_count": null,
   "id": "aef3f32c",
   "metadata": {},
   "outputs": [],
   "source": [
    "#Model Building\n",
    "model_rf=RandomForestClassifier(n_estimators=10,criterion='entropy',random_state=0)"
   ]
  },
  {
   "cell_type": "code",
   "execution_count": null,
   "id": "bdcae124",
   "metadata": {},
   "outputs": [],
   "source": [
    "#Training\n",
    "model_rf.fit(X_train,Y_train)"
   ]
  },
  {
   "cell_type": "code",
   "execution_count": null,
   "id": "8e43fd5b",
   "metadata": {},
   "outputs": [],
   "source": [
    "#Testing\n",
    "pred_rf=model_rf.predict(X_test)"
   ]
  },
  {
   "cell_type": "code",
   "execution_count": null,
   "id": "07a87246",
   "metadata": {},
   "outputs": [],
   "source": [
    "accuracy_score(pred_rf,Y_test)"
   ]
  },
  {
   "cell_type": "code",
   "execution_count": null,
   "id": "d5bd0642",
   "metadata": {},
   "outputs": [],
   "source": []
  },
  {
   "cell_type": "code",
   "execution_count": null,
   "id": "e8c04cb3",
   "metadata": {},
   "outputs": [],
   "source": [
    "#Model 7 XG Boost"
   ]
  },
  {
   "cell_type": "code",
   "execution_count": null,
   "id": "1a193776",
   "metadata": {},
   "outputs": [],
   "source": [
    "import xgboost as xgb"
   ]
  },
  {
   "cell_type": "code",
   "execution_count": null,
   "id": "8d20e3d9",
   "metadata": {},
   "outputs": [],
   "source": [
    "#Model Building\n",
    "model_xgb= xgb.XGBClassifier(n_estimators=10)"
   ]
  },
  {
   "cell_type": "code",
   "execution_count": null,
   "id": "83ec5822",
   "metadata": {},
   "outputs": [],
   "source": [
    "#Training\n",
    "model_xgb.fit(X_train.values,Y_train)"
   ]
  },
  {
   "cell_type": "code",
   "execution_count": null,
   "id": "cf87627a",
   "metadata": {},
   "outputs": [],
   "source": [
    "#Testing\n",
    "pred_xgb=model_xgb.predict(X_test)\n",
    "X_test"
   ]
  },
  {
   "cell_type": "code",
   "execution_count": null,
   "id": "21b81fa1",
   "metadata": {},
   "outputs": [],
   "source": [
    "accuracy_score(pred_xgb,Y_test)"
   ]
  },
  {
   "cell_type": "code",
   "execution_count": null,
   "id": "cc53c732",
   "metadata": {},
   "outputs": [],
   "source": []
  },
  {
   "cell_type": "code",
   "execution_count": null,
   "id": "e943b083",
   "metadata": {},
   "outputs": [],
   "source": [
    "#Model 2 Logistic Regression"
   ]
  },
  {
   "cell_type": "code",
   "execution_count": null,
   "id": "6a365206",
   "metadata": {},
   "outputs": [],
   "source": [
    "#Model Building\n",
    "from sklearn.linear_model import LogisticRegression"
   ]
  },
  {
   "cell_type": "code",
   "execution_count": null,
   "id": "16721023",
   "metadata": {},
   "outputs": [],
   "source": [
    "model_lr=LogisticRegression()"
   ]
  },
  {
   "cell_type": "code",
   "execution_count": null,
   "id": "d1e1ada5",
   "metadata": {},
   "outputs": [],
   "source": [
    "#Model Building\n",
    "model_lr.fit(X_train,Y_train)"
   ]
  },
  {
   "cell_type": "code",
   "execution_count": null,
   "id": "5beb267e",
   "metadata": {},
   "outputs": [],
   "source": [
    "#Testing\n",
    "pred_lr=model_lr.predict(X_test)"
   ]
  },
  {
   "cell_type": "code",
   "execution_count": null,
   "id": "3f513f46",
   "metadata": {},
   "outputs": [],
   "source": [
    "#Metrics \n",
    "accuracy_score(pred_lr,Y_test)"
   ]
  },
  {
   "cell_type": "code",
   "execution_count": null,
   "id": "8b44f8c7",
   "metadata": {},
   "outputs": [],
   "source": []
  },
  {
   "cell_type": "code",
   "execution_count": null,
   "id": "a6e97f98",
   "metadata": {},
   "outputs": [],
   "source": [
    "#Model 4 K Nearest Neighbours"
   ]
  },
  {
   "cell_type": "code",
   "execution_count": null,
   "id": "049c675a",
   "metadata": {},
   "outputs": [],
   "source": [
    "from sklearn.neighbors import KNeighborsClassifier\n",
    "model_knn=KNeighborsClassifier()"
   ]
  },
  {
   "cell_type": "code",
   "execution_count": null,
   "id": "28365528",
   "metadata": {},
   "outputs": [],
   "source": [
    "#Model Building\n",
    "model_knn.fit(X_train,Y_train)"
   ]
  },
  {
   "cell_type": "code",
   "execution_count": null,
   "id": "3822ac57",
   "metadata": {},
   "outputs": [],
   "source": [
    "#Testing\n",
    "pred_knn=model_knn.predict(X_test)"
   ]
  },
  {
   "cell_type": "code",
   "execution_count": null,
   "id": "20a3e45b",
   "metadata": {},
   "outputs": [],
   "source": [
    "accuracy_score(pred_knn,Y_test)"
   ]
  },
  {
   "cell_type": "code",
   "execution_count": null,
   "id": "7b4f4080",
   "metadata": {},
   "outputs": [],
   "source": []
  },
  {
   "cell_type": "code",
   "execution_count": null,
   "id": "a26e2557",
   "metadata": {},
   "outputs": [],
   "source": [
    "#Model 5 Decision Tree Classifier\n",
    "from sklearn.tree import DecisionTreeClassifier\n",
    "#Model Building\n",
    "model_dt=DecisionTreeClassifier(criterion='entropy',random_state=0)"
   ]
  },
  {
   "cell_type": "code",
   "execution_count": null,
   "id": "1050194c",
   "metadata": {},
   "outputs": [],
   "source": [
    "#Training model\n",
    "model_dt.fit(X_train,Y_train)"
   ]
  },
  {
   "cell_type": "code",
   "execution_count": null,
   "id": "f25dcb8b",
   "metadata": {},
   "outputs": [],
   "source": [
    "#Testing\n",
    "pred_dt=model_lr.predict(X_test)"
   ]
  },
  {
   "cell_type": "code",
   "execution_count": null,
   "id": "a165b47c",
   "metadata": {},
   "outputs": [],
   "source": [
    "accuracy_score(pred_dt,Y_test)"
   ]
  },
  {
   "cell_type": "code",
   "execution_count": null,
   "id": "e9ad1ee0",
   "metadata": {},
   "outputs": [],
   "source": []
  },
  {
   "cell_type": "code",
   "execution_count": null,
   "id": "7a1e2a72",
   "metadata": {},
   "outputs": [],
   "source": [
    "#8 AdaBoost Algorithm\n",
    "from sklearn.ensemble import AdaBoostClassifier"
   ]
  },
  {
   "cell_type": "code",
   "execution_count": null,
   "id": "fd2e09e5",
   "metadata": {},
   "outputs": [],
   "source": [
    "# Create adaboost classifer object\n",
    "abc = AdaBoostClassifier(n_estimators=50,\n",
    "                         learning_rate=0.1)\n",
    "# Train Adaboost Classifer\n",
    "model_abc = abc.fit(X_train, Y_train)\n",
    "\n",
    "#Predict the response for test dataset\n",
    "pred_abc = model_abc.predict(X_test)"
   ]
  },
  {
   "cell_type": "code",
   "execution_count": null,
   "id": "070769f3",
   "metadata": {},
   "outputs": [],
   "source": [
    "accuracy_score(pred_abc,Y_test)"
   ]
  },
  {
   "cell_type": "code",
   "execution_count": null,
   "id": "81992f06",
   "metadata": {},
   "outputs": [],
   "source": []
  },
  {
   "cell_type": "code",
   "execution_count": null,
   "id": "db324c53",
   "metadata": {},
   "outputs": [],
   "source": []
  },
  {
   "cell_type": "code",
   "execution_count": null,
   "id": "fdcd7e67",
   "metadata": {},
   "outputs": [],
   "source": []
  },
  {
   "cell_type": "code",
   "execution_count": null,
   "id": "ff0df024",
   "metadata": {},
   "outputs": [],
   "source": []
  },
  {
   "cell_type": "code",
   "execution_count": null,
   "id": "eca9ce5e",
   "metadata": {},
   "outputs": [],
   "source": []
  }
 ],
 "metadata": {
  "kernelspec": {
   "display_name": "Python 3 (ipykernel)",
   "language": "python",
   "name": "python3"
  },
  "language_info": {
   "codemirror_mode": {
    "name": "ipython",
    "version": 3
   },
   "file_extension": ".py",
   "mimetype": "text/x-python",
   "name": "python",
   "nbconvert_exporter": "python",
   "pygments_lexer": "ipython3",
   "version": "3.11.5"
  }
 },
 "nbformat": 4,
 "nbformat_minor": 5
}
